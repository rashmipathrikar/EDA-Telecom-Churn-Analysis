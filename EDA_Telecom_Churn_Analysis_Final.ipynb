{
  "nbformat": 4,
  "nbformat_minor": 0,
  "metadata": {
    "colab": {
      "name": "EDA-Telecom-Churn-Analysis-Final.ipynb",
      "provenance": [],
      "collapsed_sections": [],
      "authorship_tag": "ABX9TyMfxQkLb5QA4yXOb7D5QbeR",
      "include_colab_link": true
    },
    "kernelspec": {
      "name": "python3",
      "display_name": "Python 3"
    },
    "language_info": {
      "name": "python"
    }
  },
  "cells": [
    {
      "cell_type": "markdown",
      "metadata": {
        "id": "view-in-github",
        "colab_type": "text"
      },
      "source": [
        "<a href=\"https://colab.research.google.com/github/rashmipathrikar/EDA-Telecom-Churn-Analysis/blob/main/EDA_Telecom_Churn_Analysis_Final.ipynb\" target=\"_parent\"><img src=\"https://colab.research.google.com/assets/colab-badge.svg\" alt=\"Open In Colab\"/></a>"
      ]
    },
    {
      "cell_type": "markdown",
      "source": [
        "## **Problem Statement**\n",
        "\n",
        "# Orange S.A., formerly France Télécom S.A., is a French multinational telecommunications corporation. The Orange Telecom's Churn Dataset, consists of cleaned customer activity data (features), along with a churn label specifying whether a customer canceled the subscription. Explore and analyze the data to discover key factors responsible for customer churn and come up with ways/recommendations to ensure customer retention."
      ],
      "metadata": {
        "id": "6Z77RUxRW8vH"
      }
    },
    {
      "cell_type": "markdown",
      "source": [
        "# Importing modules required for exploratory data analysis"
      ],
      "metadata": {
        "id": "oNzK6cIGW8Q4"
      }
    },
    {
      "cell_type": "code",
      "execution_count": 1,
      "metadata": {
        "id": "ogDva9SoWiRC"
      },
      "outputs": [],
      "source": [
        "#importing the required packages\n",
        "import pandas as pd\n",
        "import numpy as np\n",
        "\n",
        "#import visualization packages\n",
        "import matplotlib.pyplot as plt\n",
        "%matplotlib inline\n",
        "import seaborn as sns\n",
        "import warnings\n",
        "warnings.filterwarnings(\"ignore\")"
      ]
    },
    {
      "cell_type": "markdown",
      "source": [
        "Mounting Drive and Loading Dataset"
      ],
      "metadata": {
        "id": "VbEM8srVYZlC"
      }
    },
    {
      "cell_type": "code",
      "source": [
        "#mount drive\n",
        "from google.colab import drive\n",
        "drive.mount('/content/drive/')"
      ],
      "metadata": {
        "colab": {
          "base_uri": "https://localhost:8080/"
        },
        "id": "jKeRnPGYXQCY",
        "outputId": "7c256a16-0a53-4725-e5f4-b07346160f6a"
      },
      "execution_count": 2,
      "outputs": [
        {
          "output_type": "stream",
          "name": "stdout",
          "text": [
            "Mounted at /content/drive/\n"
          ]
        }
      ]
    },
    {
      "cell_type": "code",
      "source": [
        "#Loading dataset required\n",
        "path =\"/content/drive/MyDrive/eda analysis/Copy of Telecom Churn.csv\"\n",
        "telecom= pd.read_csv(path)"
      ],
      "metadata": {
        "id": "ER3khh01YAHM"
      },
      "execution_count": 3,
      "outputs": []
    },
    {
      "cell_type": "markdown",
      "source": [
        "Understanding more about Data available"
      ],
      "metadata": {
        "id": "-OoFS0phZiCg"
      }
    },
    {
      "cell_type": "code",
      "source": [
        "# to look the glimps of the data of top 5 rows\n",
        "telecom.head(5)"
      ],
      "metadata": {
        "colab": {
          "base_uri": "https://localhost:8080/",
          "height": 285
        },
        "id": "hvtDMYuMZasU",
        "outputId": "d9177be6-5700-4dc9-cd39-fcf6ca9650b6"
      },
      "execution_count": 4,
      "outputs": [
        {
          "output_type": "execute_result",
          "data": {
            "text/plain": [
              "  State  Account length  Area code International plan Voice mail plan  \\\n",
              "0    KS             128        415                 No             Yes   \n",
              "1    OH             107        415                 No             Yes   \n",
              "2    NJ             137        415                 No              No   \n",
              "3    OH              84        408                Yes              No   \n",
              "4    OK              75        415                Yes              No   \n",
              "\n",
              "   Number vmail messages  Total day minutes  Total day calls  \\\n",
              "0                     25              265.1              110   \n",
              "1                     26              161.6              123   \n",
              "2                      0              243.4              114   \n",
              "3                      0              299.4               71   \n",
              "4                      0              166.7              113   \n",
              "\n",
              "   Total day charge  Total eve minutes  Total eve calls  Total eve charge  \\\n",
              "0             45.07              197.4               99             16.78   \n",
              "1             27.47              195.5              103             16.62   \n",
              "2             41.38              121.2              110             10.30   \n",
              "3             50.90               61.9               88              5.26   \n",
              "4             28.34              148.3              122             12.61   \n",
              "\n",
              "   Total night minutes  Total night calls  Total night charge  \\\n",
              "0                244.7                 91               11.01   \n",
              "1                254.4                103               11.45   \n",
              "2                162.6                104                7.32   \n",
              "3                196.9                 89                8.86   \n",
              "4                186.9                121                8.41   \n",
              "\n",
              "   Total intl minutes  Total intl calls  Total intl charge  \\\n",
              "0                10.0                 3               2.70   \n",
              "1                13.7                 3               3.70   \n",
              "2                12.2                 5               3.29   \n",
              "3                 6.6                 7               1.78   \n",
              "4                10.1                 3               2.73   \n",
              "\n",
              "   Customer service calls  Churn  \n",
              "0                       1  False  \n",
              "1                       1  False  \n",
              "2                       0  False  \n",
              "3                       2  False  \n",
              "4                       3  False  "
            ],
            "text/html": [
              "\n",
              "  <div id=\"df-ecf4ac23-6ce7-4174-80d5-ee858d979e71\">\n",
              "    <div class=\"colab-df-container\">\n",
              "      <div>\n",
              "<style scoped>\n",
              "    .dataframe tbody tr th:only-of-type {\n",
              "        vertical-align: middle;\n",
              "    }\n",
              "\n",
              "    .dataframe tbody tr th {\n",
              "        vertical-align: top;\n",
              "    }\n",
              "\n",
              "    .dataframe thead th {\n",
              "        text-align: right;\n",
              "    }\n",
              "</style>\n",
              "<table border=\"1\" class=\"dataframe\">\n",
              "  <thead>\n",
              "    <tr style=\"text-align: right;\">\n",
              "      <th></th>\n",
              "      <th>State</th>\n",
              "      <th>Account length</th>\n",
              "      <th>Area code</th>\n",
              "      <th>International plan</th>\n",
              "      <th>Voice mail plan</th>\n",
              "      <th>Number vmail messages</th>\n",
              "      <th>Total day minutes</th>\n",
              "      <th>Total day calls</th>\n",
              "      <th>Total day charge</th>\n",
              "      <th>Total eve minutes</th>\n",
              "      <th>Total eve calls</th>\n",
              "      <th>Total eve charge</th>\n",
              "      <th>Total night minutes</th>\n",
              "      <th>Total night calls</th>\n",
              "      <th>Total night charge</th>\n",
              "      <th>Total intl minutes</th>\n",
              "      <th>Total intl calls</th>\n",
              "      <th>Total intl charge</th>\n",
              "      <th>Customer service calls</th>\n",
              "      <th>Churn</th>\n",
              "    </tr>\n",
              "  </thead>\n",
              "  <tbody>\n",
              "    <tr>\n",
              "      <th>0</th>\n",
              "      <td>KS</td>\n",
              "      <td>128</td>\n",
              "      <td>415</td>\n",
              "      <td>No</td>\n",
              "      <td>Yes</td>\n",
              "      <td>25</td>\n",
              "      <td>265.1</td>\n",
              "      <td>110</td>\n",
              "      <td>45.07</td>\n",
              "      <td>197.4</td>\n",
              "      <td>99</td>\n",
              "      <td>16.78</td>\n",
              "      <td>244.7</td>\n",
              "      <td>91</td>\n",
              "      <td>11.01</td>\n",
              "      <td>10.0</td>\n",
              "      <td>3</td>\n",
              "      <td>2.70</td>\n",
              "      <td>1</td>\n",
              "      <td>False</td>\n",
              "    </tr>\n",
              "    <tr>\n",
              "      <th>1</th>\n",
              "      <td>OH</td>\n",
              "      <td>107</td>\n",
              "      <td>415</td>\n",
              "      <td>No</td>\n",
              "      <td>Yes</td>\n",
              "      <td>26</td>\n",
              "      <td>161.6</td>\n",
              "      <td>123</td>\n",
              "      <td>27.47</td>\n",
              "      <td>195.5</td>\n",
              "      <td>103</td>\n",
              "      <td>16.62</td>\n",
              "      <td>254.4</td>\n",
              "      <td>103</td>\n",
              "      <td>11.45</td>\n",
              "      <td>13.7</td>\n",
              "      <td>3</td>\n",
              "      <td>3.70</td>\n",
              "      <td>1</td>\n",
              "      <td>False</td>\n",
              "    </tr>\n",
              "    <tr>\n",
              "      <th>2</th>\n",
              "      <td>NJ</td>\n",
              "      <td>137</td>\n",
              "      <td>415</td>\n",
              "      <td>No</td>\n",
              "      <td>No</td>\n",
              "      <td>0</td>\n",
              "      <td>243.4</td>\n",
              "      <td>114</td>\n",
              "      <td>41.38</td>\n",
              "      <td>121.2</td>\n",
              "      <td>110</td>\n",
              "      <td>10.30</td>\n",
              "      <td>162.6</td>\n",
              "      <td>104</td>\n",
              "      <td>7.32</td>\n",
              "      <td>12.2</td>\n",
              "      <td>5</td>\n",
              "      <td>3.29</td>\n",
              "      <td>0</td>\n",
              "      <td>False</td>\n",
              "    </tr>\n",
              "    <tr>\n",
              "      <th>3</th>\n",
              "      <td>OH</td>\n",
              "      <td>84</td>\n",
              "      <td>408</td>\n",
              "      <td>Yes</td>\n",
              "      <td>No</td>\n",
              "      <td>0</td>\n",
              "      <td>299.4</td>\n",
              "      <td>71</td>\n",
              "      <td>50.90</td>\n",
              "      <td>61.9</td>\n",
              "      <td>88</td>\n",
              "      <td>5.26</td>\n",
              "      <td>196.9</td>\n",
              "      <td>89</td>\n",
              "      <td>8.86</td>\n",
              "      <td>6.6</td>\n",
              "      <td>7</td>\n",
              "      <td>1.78</td>\n",
              "      <td>2</td>\n",
              "      <td>False</td>\n",
              "    </tr>\n",
              "    <tr>\n",
              "      <th>4</th>\n",
              "      <td>OK</td>\n",
              "      <td>75</td>\n",
              "      <td>415</td>\n",
              "      <td>Yes</td>\n",
              "      <td>No</td>\n",
              "      <td>0</td>\n",
              "      <td>166.7</td>\n",
              "      <td>113</td>\n",
              "      <td>28.34</td>\n",
              "      <td>148.3</td>\n",
              "      <td>122</td>\n",
              "      <td>12.61</td>\n",
              "      <td>186.9</td>\n",
              "      <td>121</td>\n",
              "      <td>8.41</td>\n",
              "      <td>10.1</td>\n",
              "      <td>3</td>\n",
              "      <td>2.73</td>\n",
              "      <td>3</td>\n",
              "      <td>False</td>\n",
              "    </tr>\n",
              "  </tbody>\n",
              "</table>\n",
              "</div>\n",
              "      <button class=\"colab-df-convert\" onclick=\"convertToInteractive('df-ecf4ac23-6ce7-4174-80d5-ee858d979e71')\"\n",
              "              title=\"Convert this dataframe to an interactive table.\"\n",
              "              style=\"display:none;\">\n",
              "        \n",
              "  <svg xmlns=\"http://www.w3.org/2000/svg\" height=\"24px\"viewBox=\"0 0 24 24\"\n",
              "       width=\"24px\">\n",
              "    <path d=\"M0 0h24v24H0V0z\" fill=\"none\"/>\n",
              "    <path d=\"M18.56 5.44l.94 2.06.94-2.06 2.06-.94-2.06-.94-.94-2.06-.94 2.06-2.06.94zm-11 1L8.5 8.5l.94-2.06 2.06-.94-2.06-.94L8.5 2.5l-.94 2.06-2.06.94zm10 10l.94 2.06.94-2.06 2.06-.94-2.06-.94-.94-2.06-.94 2.06-2.06.94z\"/><path d=\"M17.41 7.96l-1.37-1.37c-.4-.4-.92-.59-1.43-.59-.52 0-1.04.2-1.43.59L10.3 9.45l-7.72 7.72c-.78.78-.78 2.05 0 2.83L4 21.41c.39.39.9.59 1.41.59.51 0 1.02-.2 1.41-.59l7.78-7.78 2.81-2.81c.8-.78.8-2.07 0-2.86zM5.41 20L4 18.59l7.72-7.72 1.47 1.35L5.41 20z\"/>\n",
              "  </svg>\n",
              "      </button>\n",
              "      \n",
              "  <style>\n",
              "    .colab-df-container {\n",
              "      display:flex;\n",
              "      flex-wrap:wrap;\n",
              "      gap: 12px;\n",
              "    }\n",
              "\n",
              "    .colab-df-convert {\n",
              "      background-color: #E8F0FE;\n",
              "      border: none;\n",
              "      border-radius: 50%;\n",
              "      cursor: pointer;\n",
              "      display: none;\n",
              "      fill: #1967D2;\n",
              "      height: 32px;\n",
              "      padding: 0 0 0 0;\n",
              "      width: 32px;\n",
              "    }\n",
              "\n",
              "    .colab-df-convert:hover {\n",
              "      background-color: #E2EBFA;\n",
              "      box-shadow: 0px 1px 2px rgba(60, 64, 67, 0.3), 0px 1px 3px 1px rgba(60, 64, 67, 0.15);\n",
              "      fill: #174EA6;\n",
              "    }\n",
              "\n",
              "    [theme=dark] .colab-df-convert {\n",
              "      background-color: #3B4455;\n",
              "      fill: #D2E3FC;\n",
              "    }\n",
              "\n",
              "    [theme=dark] .colab-df-convert:hover {\n",
              "      background-color: #434B5C;\n",
              "      box-shadow: 0px 1px 3px 1px rgba(0, 0, 0, 0.15);\n",
              "      filter: drop-shadow(0px 1px 2px rgba(0, 0, 0, 0.3));\n",
              "      fill: #FFFFFF;\n",
              "    }\n",
              "  </style>\n",
              "\n",
              "      <script>\n",
              "        const buttonEl =\n",
              "          document.querySelector('#df-ecf4ac23-6ce7-4174-80d5-ee858d979e71 button.colab-df-convert');\n",
              "        buttonEl.style.display =\n",
              "          google.colab.kernel.accessAllowed ? 'block' : 'none';\n",
              "\n",
              "        async function convertToInteractive(key) {\n",
              "          const element = document.querySelector('#df-ecf4ac23-6ce7-4174-80d5-ee858d979e71');\n",
              "          const dataTable =\n",
              "            await google.colab.kernel.invokeFunction('convertToInteractive',\n",
              "                                                     [key], {});\n",
              "          if (!dataTable) return;\n",
              "\n",
              "          const docLinkHtml = 'Like what you see? Visit the ' +\n",
              "            '<a target=\"_blank\" href=https://colab.research.google.com/notebooks/data_table.ipynb>data table notebook</a>'\n",
              "            + ' to learn more about interactive tables.';\n",
              "          element.innerHTML = '';\n",
              "          dataTable['output_type'] = 'display_data';\n",
              "          await google.colab.output.renderOutput(dataTable, element);\n",
              "          const docLink = document.createElement('div');\n",
              "          docLink.innerHTML = docLinkHtml;\n",
              "          element.appendChild(docLink);\n",
              "        }\n",
              "      </script>\n",
              "    </div>\n",
              "  </div>\n",
              "  "
            ]
          },
          "metadata": {},
          "execution_count": 4
        }
      ]
    },
    {
      "cell_type": "code",
      "source": [
        "# to look the glimps of the data of bottom 5 rows\n",
        "telecom.tail(5)"
      ],
      "metadata": {
        "colab": {
          "base_uri": "https://localhost:8080/",
          "height": 285
        },
        "id": "vltZDGXSZbSU",
        "outputId": "6a256f8a-ae09-411e-e8e7-794f84c256a4"
      },
      "execution_count": 5,
      "outputs": [
        {
          "output_type": "execute_result",
          "data": {
            "text/plain": [
              "     State  Account length  Area code International plan Voice mail plan  \\\n",
              "3328    AZ             192        415                 No             Yes   \n",
              "3329    WV              68        415                 No              No   \n",
              "3330    RI              28        510                 No              No   \n",
              "3331    CT             184        510                Yes              No   \n",
              "3332    TN              74        415                 No             Yes   \n",
              "\n",
              "      Number vmail messages  Total day minutes  Total day calls  \\\n",
              "3328                     36              156.2               77   \n",
              "3329                      0              231.1               57   \n",
              "3330                      0              180.8              109   \n",
              "3331                      0              213.8              105   \n",
              "3332                     25              234.4              113   \n",
              "\n",
              "      Total day charge  Total eve minutes  Total eve calls  Total eve charge  \\\n",
              "3328             26.55              215.5              126             18.32   \n",
              "3329             39.29              153.4               55             13.04   \n",
              "3330             30.74              288.8               58             24.55   \n",
              "3331             36.35              159.6               84             13.57   \n",
              "3332             39.85              265.9               82             22.60   \n",
              "\n",
              "      Total night minutes  Total night calls  Total night charge  \\\n",
              "3328                279.1                 83               12.56   \n",
              "3329                191.3                123                8.61   \n",
              "3330                191.9                 91                8.64   \n",
              "3331                139.2                137                6.26   \n",
              "3332                241.4                 77               10.86   \n",
              "\n",
              "      Total intl minutes  Total intl calls  Total intl charge  \\\n",
              "3328                 9.9                 6               2.67   \n",
              "3329                 9.6                 4               2.59   \n",
              "3330                14.1                 6               3.81   \n",
              "3331                 5.0                10               1.35   \n",
              "3332                13.7                 4               3.70   \n",
              "\n",
              "      Customer service calls  Churn  \n",
              "3328                       2  False  \n",
              "3329                       3  False  \n",
              "3330                       2  False  \n",
              "3331                       2  False  \n",
              "3332                       0  False  "
            ],
            "text/html": [
              "\n",
              "  <div id=\"df-603b9a8a-5a3f-45f3-b569-bfd17450b1e0\">\n",
              "    <div class=\"colab-df-container\">\n",
              "      <div>\n",
              "<style scoped>\n",
              "    .dataframe tbody tr th:only-of-type {\n",
              "        vertical-align: middle;\n",
              "    }\n",
              "\n",
              "    .dataframe tbody tr th {\n",
              "        vertical-align: top;\n",
              "    }\n",
              "\n",
              "    .dataframe thead th {\n",
              "        text-align: right;\n",
              "    }\n",
              "</style>\n",
              "<table border=\"1\" class=\"dataframe\">\n",
              "  <thead>\n",
              "    <tr style=\"text-align: right;\">\n",
              "      <th></th>\n",
              "      <th>State</th>\n",
              "      <th>Account length</th>\n",
              "      <th>Area code</th>\n",
              "      <th>International plan</th>\n",
              "      <th>Voice mail plan</th>\n",
              "      <th>Number vmail messages</th>\n",
              "      <th>Total day minutes</th>\n",
              "      <th>Total day calls</th>\n",
              "      <th>Total day charge</th>\n",
              "      <th>Total eve minutes</th>\n",
              "      <th>Total eve calls</th>\n",
              "      <th>Total eve charge</th>\n",
              "      <th>Total night minutes</th>\n",
              "      <th>Total night calls</th>\n",
              "      <th>Total night charge</th>\n",
              "      <th>Total intl minutes</th>\n",
              "      <th>Total intl calls</th>\n",
              "      <th>Total intl charge</th>\n",
              "      <th>Customer service calls</th>\n",
              "      <th>Churn</th>\n",
              "    </tr>\n",
              "  </thead>\n",
              "  <tbody>\n",
              "    <tr>\n",
              "      <th>3328</th>\n",
              "      <td>AZ</td>\n",
              "      <td>192</td>\n",
              "      <td>415</td>\n",
              "      <td>No</td>\n",
              "      <td>Yes</td>\n",
              "      <td>36</td>\n",
              "      <td>156.2</td>\n",
              "      <td>77</td>\n",
              "      <td>26.55</td>\n",
              "      <td>215.5</td>\n",
              "      <td>126</td>\n",
              "      <td>18.32</td>\n",
              "      <td>279.1</td>\n",
              "      <td>83</td>\n",
              "      <td>12.56</td>\n",
              "      <td>9.9</td>\n",
              "      <td>6</td>\n",
              "      <td>2.67</td>\n",
              "      <td>2</td>\n",
              "      <td>False</td>\n",
              "    </tr>\n",
              "    <tr>\n",
              "      <th>3329</th>\n",
              "      <td>WV</td>\n",
              "      <td>68</td>\n",
              "      <td>415</td>\n",
              "      <td>No</td>\n",
              "      <td>No</td>\n",
              "      <td>0</td>\n",
              "      <td>231.1</td>\n",
              "      <td>57</td>\n",
              "      <td>39.29</td>\n",
              "      <td>153.4</td>\n",
              "      <td>55</td>\n",
              "      <td>13.04</td>\n",
              "      <td>191.3</td>\n",
              "      <td>123</td>\n",
              "      <td>8.61</td>\n",
              "      <td>9.6</td>\n",
              "      <td>4</td>\n",
              "      <td>2.59</td>\n",
              "      <td>3</td>\n",
              "      <td>False</td>\n",
              "    </tr>\n",
              "    <tr>\n",
              "      <th>3330</th>\n",
              "      <td>RI</td>\n",
              "      <td>28</td>\n",
              "      <td>510</td>\n",
              "      <td>No</td>\n",
              "      <td>No</td>\n",
              "      <td>0</td>\n",
              "      <td>180.8</td>\n",
              "      <td>109</td>\n",
              "      <td>30.74</td>\n",
              "      <td>288.8</td>\n",
              "      <td>58</td>\n",
              "      <td>24.55</td>\n",
              "      <td>191.9</td>\n",
              "      <td>91</td>\n",
              "      <td>8.64</td>\n",
              "      <td>14.1</td>\n",
              "      <td>6</td>\n",
              "      <td>3.81</td>\n",
              "      <td>2</td>\n",
              "      <td>False</td>\n",
              "    </tr>\n",
              "    <tr>\n",
              "      <th>3331</th>\n",
              "      <td>CT</td>\n",
              "      <td>184</td>\n",
              "      <td>510</td>\n",
              "      <td>Yes</td>\n",
              "      <td>No</td>\n",
              "      <td>0</td>\n",
              "      <td>213.8</td>\n",
              "      <td>105</td>\n",
              "      <td>36.35</td>\n",
              "      <td>159.6</td>\n",
              "      <td>84</td>\n",
              "      <td>13.57</td>\n",
              "      <td>139.2</td>\n",
              "      <td>137</td>\n",
              "      <td>6.26</td>\n",
              "      <td>5.0</td>\n",
              "      <td>10</td>\n",
              "      <td>1.35</td>\n",
              "      <td>2</td>\n",
              "      <td>False</td>\n",
              "    </tr>\n",
              "    <tr>\n",
              "      <th>3332</th>\n",
              "      <td>TN</td>\n",
              "      <td>74</td>\n",
              "      <td>415</td>\n",
              "      <td>No</td>\n",
              "      <td>Yes</td>\n",
              "      <td>25</td>\n",
              "      <td>234.4</td>\n",
              "      <td>113</td>\n",
              "      <td>39.85</td>\n",
              "      <td>265.9</td>\n",
              "      <td>82</td>\n",
              "      <td>22.60</td>\n",
              "      <td>241.4</td>\n",
              "      <td>77</td>\n",
              "      <td>10.86</td>\n",
              "      <td>13.7</td>\n",
              "      <td>4</td>\n",
              "      <td>3.70</td>\n",
              "      <td>0</td>\n",
              "      <td>False</td>\n",
              "    </tr>\n",
              "  </tbody>\n",
              "</table>\n",
              "</div>\n",
              "      <button class=\"colab-df-convert\" onclick=\"convertToInteractive('df-603b9a8a-5a3f-45f3-b569-bfd17450b1e0')\"\n",
              "              title=\"Convert this dataframe to an interactive table.\"\n",
              "              style=\"display:none;\">\n",
              "        \n",
              "  <svg xmlns=\"http://www.w3.org/2000/svg\" height=\"24px\"viewBox=\"0 0 24 24\"\n",
              "       width=\"24px\">\n",
              "    <path d=\"M0 0h24v24H0V0z\" fill=\"none\"/>\n",
              "    <path d=\"M18.56 5.44l.94 2.06.94-2.06 2.06-.94-2.06-.94-.94-2.06-.94 2.06-2.06.94zm-11 1L8.5 8.5l.94-2.06 2.06-.94-2.06-.94L8.5 2.5l-.94 2.06-2.06.94zm10 10l.94 2.06.94-2.06 2.06-.94-2.06-.94-.94-2.06-.94 2.06-2.06.94z\"/><path d=\"M17.41 7.96l-1.37-1.37c-.4-.4-.92-.59-1.43-.59-.52 0-1.04.2-1.43.59L10.3 9.45l-7.72 7.72c-.78.78-.78 2.05 0 2.83L4 21.41c.39.39.9.59 1.41.59.51 0 1.02-.2 1.41-.59l7.78-7.78 2.81-2.81c.8-.78.8-2.07 0-2.86zM5.41 20L4 18.59l7.72-7.72 1.47 1.35L5.41 20z\"/>\n",
              "  </svg>\n",
              "      </button>\n",
              "      \n",
              "  <style>\n",
              "    .colab-df-container {\n",
              "      display:flex;\n",
              "      flex-wrap:wrap;\n",
              "      gap: 12px;\n",
              "    }\n",
              "\n",
              "    .colab-df-convert {\n",
              "      background-color: #E8F0FE;\n",
              "      border: none;\n",
              "      border-radius: 50%;\n",
              "      cursor: pointer;\n",
              "      display: none;\n",
              "      fill: #1967D2;\n",
              "      height: 32px;\n",
              "      padding: 0 0 0 0;\n",
              "      width: 32px;\n",
              "    }\n",
              "\n",
              "    .colab-df-convert:hover {\n",
              "      background-color: #E2EBFA;\n",
              "      box-shadow: 0px 1px 2px rgba(60, 64, 67, 0.3), 0px 1px 3px 1px rgba(60, 64, 67, 0.15);\n",
              "      fill: #174EA6;\n",
              "    }\n",
              "\n",
              "    [theme=dark] .colab-df-convert {\n",
              "      background-color: #3B4455;\n",
              "      fill: #D2E3FC;\n",
              "    }\n",
              "\n",
              "    [theme=dark] .colab-df-convert:hover {\n",
              "      background-color: #434B5C;\n",
              "      box-shadow: 0px 1px 3px 1px rgba(0, 0, 0, 0.15);\n",
              "      filter: drop-shadow(0px 1px 2px rgba(0, 0, 0, 0.3));\n",
              "      fill: #FFFFFF;\n",
              "    }\n",
              "  </style>\n",
              "\n",
              "      <script>\n",
              "        const buttonEl =\n",
              "          document.querySelector('#df-603b9a8a-5a3f-45f3-b569-bfd17450b1e0 button.colab-df-convert');\n",
              "        buttonEl.style.display =\n",
              "          google.colab.kernel.accessAllowed ? 'block' : 'none';\n",
              "\n",
              "        async function convertToInteractive(key) {\n",
              "          const element = document.querySelector('#df-603b9a8a-5a3f-45f3-b569-bfd17450b1e0');\n",
              "          const dataTable =\n",
              "            await google.colab.kernel.invokeFunction('convertToInteractive',\n",
              "                                                     [key], {});\n",
              "          if (!dataTable) return;\n",
              "\n",
              "          const docLinkHtml = 'Like what you see? Visit the ' +\n",
              "            '<a target=\"_blank\" href=https://colab.research.google.com/notebooks/data_table.ipynb>data table notebook</a>'\n",
              "            + ' to learn more about interactive tables.';\n",
              "          element.innerHTML = '';\n",
              "          dataTable['output_type'] = 'display_data';\n",
              "          await google.colab.output.renderOutput(dataTable, element);\n",
              "          const docLink = document.createElement('div');\n",
              "          docLink.innerHTML = docLinkHtml;\n",
              "          element.appendChild(docLink);\n",
              "        }\n",
              "      </script>\n",
              "    </div>\n",
              "  </div>\n",
              "  "
            ]
          },
          "metadata": {},
          "execution_count": 5
        }
      ]
    },
    {
      "cell_type": "code",
      "source": [
        "# shape of dataset with rows and column\n",
        "print(telecom.shape)"
      ],
      "metadata": {
        "colab": {
          "base_uri": "https://localhost:8080/"
        },
        "id": "EIL1gPEPYAy4",
        "outputId": "c5e52680-dfdf-420a-d25f-84d0d9249e48"
      },
      "execution_count": 6,
      "outputs": [
        {
          "output_type": "stream",
          "name": "stdout",
          "text": [
            "(3333, 20)\n"
          ]
        }
      ]
    },
    {
      "cell_type": "code",
      "source": [
        "#all the columns of dataset\n",
        "print(\"Features of the data:\")\n",
        "telecom.columns"
      ],
      "metadata": {
        "colab": {
          "base_uri": "https://localhost:8080/"
        },
        "id": "feB5-kGbYBLW",
        "outputId": "7d36eac0-fd76-4289-e7ca-8a3cf8022e7d"
      },
      "execution_count": 7,
      "outputs": [
        {
          "output_type": "stream",
          "name": "stdout",
          "text": [
            "Features of the data:\n"
          ]
        },
        {
          "output_type": "execute_result",
          "data": {
            "text/plain": [
              "Index(['State', 'Account length', 'Area code', 'International plan',\n",
              "       'Voice mail plan', 'Number vmail messages', 'Total day minutes',\n",
              "       'Total day calls', 'Total day charge', 'Total eve minutes',\n",
              "       'Total eve calls', 'Total eve charge', 'Total night minutes',\n",
              "       'Total night calls', 'Total night charge', 'Total intl minutes',\n",
              "       'Total intl calls', 'Total intl charge', 'Customer service calls',\n",
              "       'Churn'],\n",
              "      dtype='object')"
            ]
          },
          "metadata": {},
          "execution_count": 7
        }
      ]
    },
    {
      "cell_type": "markdown",
      "source": [
        "### **Features of column of the Data:**\n",
        "\n",
        "STATE: 51 Unique States name\n",
        "\n",
        "Account Length: Length of The Account\n",
        "\n",
        "Area Code: Code Number of Area having some States\n",
        "\n",
        "International Plan : Yes Indicate International Plan is Present and No Indicates no subscription for Internatinal Plan\n",
        "\n",
        "Voice Mail Plan: Yes Indicates Voice Mail Plan is Present and No Indicates no subscription for Voice Mail Plan\n",
        "\n",
        "Number vmail messages: Number of Voice Mail Messages ranging from 0 to 50\n",
        "\n",
        "Total day minutes: Total Number of Minutes Spent in Morning\n",
        "\n",
        "Total day calls: Total Number of Calls made in Morning.\n",
        "\n",
        "Total day charge: Total Charge to the Customers in Morning.\n",
        "\n",
        "Total eve minutes: Total Number of Minutes Spent in Evening\n",
        "\n",
        "Total eve calls: Total Number of Calls made in Evening.\n",
        "\n",
        "Total eve charge: Total Charge to the Customers in Evening.\n",
        "\n",
        "Total night minutes: Total Number of Minutes Spent in the Night.\n",
        "\n",
        "Total night calls: Total Number of Calls made in Night.\n",
        "\n",
        "Total night charge: Total Charge to the Customers in Night.\n",
        "\n",
        "Customer service calls: Number of customer service calls made by customer\n",
        "\n",
        "Churn: Customer Churn, True means churned customer, False means retained customer"
      ],
      "metadata": {
        "id": "M-pdEz4_a_A0"
      }
    },
    {
      "cell_type": "code",
      "source": [
        "#the data types of all the columns\n",
        "telecom.dtypes"
      ],
      "metadata": {
        "colab": {
          "base_uri": "https://localhost:8080/"
        },
        "id": "PanmPfzHa2F6",
        "outputId": "1ce7c9db-6bee-478f-d4d2-2b587b461bd6"
      },
      "execution_count": 8,
      "outputs": [
        {
          "output_type": "execute_result",
          "data": {
            "text/plain": [
              "State                      object\n",
              "Account length              int64\n",
              "Area code                   int64\n",
              "International plan         object\n",
              "Voice mail plan            object\n",
              "Number vmail messages       int64\n",
              "Total day minutes         float64\n",
              "Total day calls             int64\n",
              "Total day charge          float64\n",
              "Total eve minutes         float64\n",
              "Total eve calls             int64\n",
              "Total eve charge          float64\n",
              "Total night minutes       float64\n",
              "Total night calls           int64\n",
              "Total night charge        float64\n",
              "Total intl minutes        float64\n",
              "Total intl calls            int64\n",
              "Total intl charge         float64\n",
              "Customer service calls      int64\n",
              "Churn                        bool\n",
              "dtype: object"
            ]
          },
          "metadata": {},
          "execution_count": 8
        }
      ]
    },
    {
      "cell_type": "code",
      "source": [
        "#checking the details about the dataset\n",
        "telecom.info()"
      ],
      "metadata": {
        "colab": {
          "base_uri": "https://localhost:8080/"
        },
        "id": "Li6QvhOwa4DV",
        "outputId": "6f025d49-dc3f-43b0-c98a-fc16d74105d1"
      },
      "execution_count": 9,
      "outputs": [
        {
          "output_type": "stream",
          "name": "stdout",
          "text": [
            "<class 'pandas.core.frame.DataFrame'>\n",
            "RangeIndex: 3333 entries, 0 to 3332\n",
            "Data columns (total 20 columns):\n",
            " #   Column                  Non-Null Count  Dtype  \n",
            "---  ------                  --------------  -----  \n",
            " 0   State                   3333 non-null   object \n",
            " 1   Account length          3333 non-null   int64  \n",
            " 2   Area code               3333 non-null   int64  \n",
            " 3   International plan      3333 non-null   object \n",
            " 4   Voice mail plan         3333 non-null   object \n",
            " 5   Number vmail messages   3333 non-null   int64  \n",
            " 6   Total day minutes       3333 non-null   float64\n",
            " 7   Total day calls         3333 non-null   int64  \n",
            " 8   Total day charge        3333 non-null   float64\n",
            " 9   Total eve minutes       3333 non-null   float64\n",
            " 10  Total eve calls         3333 non-null   int64  \n",
            " 11  Total eve charge        3333 non-null   float64\n",
            " 12  Total night minutes     3333 non-null   float64\n",
            " 13  Total night calls       3333 non-null   int64  \n",
            " 14  Total night charge      3333 non-null   float64\n",
            " 15  Total intl minutes      3333 non-null   float64\n",
            " 16  Total intl calls        3333 non-null   int64  \n",
            " 17  Total intl charge       3333 non-null   float64\n",
            " 18  Customer service calls  3333 non-null   int64  \n",
            " 19  Churn                   3333 non-null   bool   \n",
            "dtypes: bool(1), float64(8), int64(8), object(3)\n",
            "memory usage: 498.1+ KB\n"
          ]
        }
      ]
    },
    {
      "cell_type": "code",
      "source": [
        "#Finding Null values present in data\n",
        "telecom.isnull().sum()"
      ],
      "metadata": {
        "colab": {
          "base_uri": "https://localhost:8080/"
        },
        "id": "w0W8c04Ca3c_",
        "outputId": "99282781-c17f-4daa-fec0-0ac3b70925e5"
      },
      "execution_count": 10,
      "outputs": [
        {
          "output_type": "execute_result",
          "data": {
            "text/plain": [
              "State                     0\n",
              "Account length            0\n",
              "Area code                 0\n",
              "International plan        0\n",
              "Voice mail plan           0\n",
              "Number vmail messages     0\n",
              "Total day minutes         0\n",
              "Total day calls           0\n",
              "Total day charge          0\n",
              "Total eve minutes         0\n",
              "Total eve calls           0\n",
              "Total eve charge          0\n",
              "Total night minutes       0\n",
              "Total night calls         0\n",
              "Total night charge        0\n",
              "Total intl minutes        0\n",
              "Total intl calls          0\n",
              "Total intl charge         0\n",
              "Customer service calls    0\n",
              "Churn                     0\n",
              "dtype: int64"
            ]
          },
          "metadata": {},
          "execution_count": 10
        }
      ]
    },
    {
      "cell_type": "code",
      "source": [
        "#checking whether there is duplicates or not\n",
        "len(telecom[telecom.duplicated()])"
      ],
      "metadata": {
        "colab": {
          "base_uri": "https://localhost:8080/"
        },
        "id": "NmnQjCsVa3OU",
        "outputId": "b2bb78f6-1d69-4e95-e714-c2796016c90f"
      },
      "execution_count": 11,
      "outputs": [
        {
          "output_type": "execute_result",
          "data": {
            "text/plain": [
              "0"
            ]
          },
          "metadata": {},
          "execution_count": 11
        }
      ]
    },
    {
      "cell_type": "markdown",
      "source": [
        "**There is 3333 entries and no null values are present also there is no any duplicate value is present**"
      ],
      "metadata": {
        "id": "L7pVn-azddKB"
      }
    },
    {
      "cell_type": "markdown",
      "source": [
        "**Finding total number of churned users**"
      ],
      "metadata": {
        "id": "CVvwph1KhCLS"
      }
    },
    {
      "cell_type": "code",
      "source": [
        "#Finding total number of churn users\n",
        "telecom['Churn'].value_counts()"
      ],
      "metadata": {
        "colab": {
          "base_uri": "https://localhost:8080/"
        },
        "id": "m9R7DnrchCvd",
        "outputId": "fe6babe6-0162-43b5-bcb0-5a4a72b31625"
      },
      "execution_count": 12,
      "outputs": [
        {
          "output_type": "execute_result",
          "data": {
            "text/plain": [
              "False    2850\n",
              "True      483\n",
              "Name: Churn, dtype: int64"
            ]
          },
          "metadata": {},
          "execution_count": 12
        }
      ]
    },
    {
      "cell_type": "markdown",
      "source": [
        "**Out of the total 3333 customers, 2850 customers are retained and the rest 483 are churning the telecom service.**"
      ],
      "metadata": {
        "id": "wX67Oi3Zhg5W"
      }
    },
    {
      "cell_type": "code",
      "source": [
        "#Finding the percentages of churn and plot the percentages in pie chart\n",
        "Percent_churned_users = round((telecom['Churn'].mean() * 100),3)\n",
        "Percent_unchurned_users = round((100 - Percent_churned_users),3)\n",
        "x = [Percent_churned_users, Percent_unchurned_users]\n",
        "labels = ['Churned users', 'Unchurned users']\n",
        "explode = [0.1, 0]\n",
        "\n",
        "fig, ax = plt.subplots(figsize=(4,3),dpi = 130)\n",
        "ax.pie(x, labels = labels,explode = explode, autopct='%1.1f%%')\n",
        "ax.set_title('Churn Analysis')\n",
        "plt.show()\n"
      ],
      "metadata": {
        "colab": {
          "base_uri": "https://localhost:8080/",
          "height": 364
        },
        "id": "zhNJk02ahDN5",
        "outputId": "c6ed77a0-3062-4929-c42c-a1a70fab7bc5"
      },
      "execution_count": 13,
      "outputs": [
        {
          "output_type": "display_data",
          "data": {
            "text/plain": [
              "<Figure size 520x390 with 1 Axes>"
            ],
            "image/png": "[encoded data removed]"
          },
          "metadata": {}
        }
      ]
    },
    {
      "cell_type": "code",
      "source": [
        "telecom"
      ],
      "metadata": {
        "colab": {
          "base_uri": "https://localhost:8080/",
          "height": 502
        },
        "id": "LerrDW7FhDov",
        "outputId": "39cddb0e-6ed0-4121-81df-428f4950f6eb"
      },
      "execution_count": 14,
      "outputs": [
        {
          "output_type": "execute_result",
          "data": {
            "text/plain": [
              "     State  Account length  Area code International plan Voice mail plan  \\\n",
              "0       KS             128        415                 No             Yes   \n",
              "1       OH             107        415                 No             Yes   \n",
              "2       NJ             137        415                 No              No   \n",
              "3       OH              84        408                Yes              No   \n",
              "4       OK              75        415                Yes              No   \n",
              "...    ...             ...        ...                ...             ...   \n",
              "3328    AZ             192        415                 No             Yes   \n",
              "3329    WV              68        415                 No              No   \n",
              "3330    RI              28        510                 No              No   \n",
              "3331    CT             184        510                Yes              No   \n",
              "3332    TN              74        415                 No             Yes   \n",
              "\n",
              "      Number vmail messages  Total day minutes  Total day calls  \\\n",
              "0                        25              265.1              110   \n",
              "1                        26              161.6              123   \n",
              "2                         0              243.4              114   \n",
              "3                         0              299.4               71   \n",
              "4                         0              166.7              113   \n",
              "...                     ...                ...              ...   \n",
              "3328                     36              156.2               77   \n",
              "3329                      0              231.1               57   \n",
              "3330                      0              180.8              109   \n",
              "3331                      0              213.8              105   \n",
              "3332                     25              234.4              113   \n",
              "\n",
              "      Total day charge  Total eve minutes  Total eve calls  Total eve charge  \\\n",
              "0                45.07              197.4               99             16.78   \n",
              "1                27.47              195.5              103             16.62   \n",
              "2                41.38              121.2              110             10.30   \n",
              "3                50.90               61.9               88              5.26   \n",
              "4                28.34              148.3              122             12.61   \n",
              "...                ...                ...              ...               ...   \n",
              "3328             26.55              215.5              126             18.32   \n",
              "3329             39.29              153.4               55             13.04   \n",
              "3330             30.74              288.8               58             24.55   \n",
              "3331             36.35              159.6               84             13.57   \n",
              "3332             39.85              265.9               82             22.60   \n",
              "\n",
              "      Total night minutes  Total night calls  Total night charge  \\\n",
              "0                   244.7                 91               11.01   \n",
              "1                   254.4                103               11.45   \n",
              "2                   162.6                104                7.32   \n",
              "3                   196.9                 89                8.86   \n",
              "4                   186.9                121                8.41   \n",
              "...                   ...                ...                 ...   \n",
              "3328                279.1                 83               12.56   \n",
              "3329                191.3                123                8.61   \n",
              "3330                191.9                 91                8.64   \n",
              "3331                139.2                137                6.26   \n",
              "3332                241.4                 77               10.86   \n",
              "\n",
              "      Total intl minutes  Total intl calls  Total intl charge  \\\n",
              "0                   10.0                 3               2.70   \n",
              "1                   13.7                 3               3.70   \n",
              "2                   12.2                 5               3.29   \n",
              "3                    6.6                 7               1.78   \n",
              "4                   10.1                 3               2.73   \n",
              "...                  ...               ...                ...   \n",
              "3328                 9.9                 6               2.67   \n",
              "3329                 9.6                 4               2.59   \n",
              "3330                14.1                 6               3.81   \n",
              "3331                 5.0                10               1.35   \n",
              "3332                13.7                 4               3.70   \n",
              "\n",
              "      Customer service calls  Churn  \n",
              "0                          1  False  \n",
              "1                          1  False  \n",
              "2                          0  False  \n",
              "3                          2  False  \n",
              "4                          3  False  \n",
              "...                      ...    ...  \n",
              "3328                       2  False  \n",
              "3329                       3  False  \n",
              "3330                       2  False  \n",
              "3331                       2  False  \n",
              "3332                       0  False  \n",
              "\n",
              "[3333 rows x 20 columns]"
            ],
            "text/html": [
              "\n",
              "  <div id=\"df-9cb2cd07-5898-4027-825e-cb00101fe78d\">\n",
              "    <div class=\"colab-df-container\">\n",
              "      <div>\n",
              "<style scoped>\n",
              "    .dataframe tbody tr th:only-of-type {\n",
              "        vertical-align: middle;\n",
              "    }\n",
              "\n",
              "    .dataframe tbody tr th {\n",
              "        vertical-align: top;\n",
              "    }\n",
              "\n",
              "    .dataframe thead th {\n",
              "        text-align: right;\n",
              "    }\n",
              "</style>\n",
              "<table border=\"1\" class=\"dataframe\">\n",
              "  <thead>\n",
              "    <tr style=\"text-align: right;\">\n",
              "      <th></th>\n",
              "      <th>State</th>\n",
              "      <th>Account length</th>\n",
              "      <th>Area code</th>\n",
              "      <th>International plan</th>\n",
              "      <th>Voice mail plan</th>\n",
              "      <th>Number vmail messages</th>\n",
              "      <th>Total day minutes</th>\n",
              "      <th>Total day calls</th>\n",
              "      <th>Total day charge</th>\n",
              "      <th>Total eve minutes</th>\n",
              "      <th>Total eve calls</th>\n",
              "      <th>Total eve charge</th>\n",
              "      <th>Total night minutes</th>\n",
              "      <th>Total night calls</th>\n",
              "      <th>Total night charge</th>\n",
              "      <th>Total intl minutes</th>\n",
              "      <th>Total intl calls</th>\n",
              "      <th>Total intl charge</th>\n",
              "      <th>Customer service calls</th>\n",
              "      <th>Churn</th>\n",
              "    </tr>\n",
              "  </thead>\n",
              "  <tbody>\n",
              "    <tr>\n",
              "      <th>0</th>\n",
              "      <td>KS</td>\n",
              "      <td>128</td>\n",
              "      <td>415</td>\n",
              "      <td>No</td>\n",
              "      <td>Yes</td>\n",
              "      <td>25</td>\n",
              "      <td>265.1</td>\n",
              "      <td>110</td>\n",
              "      <td>45.07</td>\n",
              "      <td>197.4</td>\n",
              "      <td>99</td>\n",
              "      <td>16.78</td>\n",
              "      <td>244.7</td>\n",
              "      <td>91</td>\n",
              "      <td>11.01</td>\n",
              "      <td>10.0</td>\n",
              "      <td>3</td>\n",
              "      <td>2.70</td>\n",
              "      <td>1</td>\n",
              "      <td>False</td>\n",
              "    </tr>\n",
              "    <tr>\n",
              "      <th>1</th>\n",
              "      <td>OH</td>\n",
              "      <td>107</td>\n",
              "      <td>415</td>\n",
              "      <td>No</td>\n",
              "      <td>Yes</td>\n",
              "      <td>26</td>\n",
              "      <td>161.6</td>\n",
              "      <td>123</td>\n",
              "      <td>27.47</td>\n",
              "      <td>195.5</td>\n",
              "      <td>103</td>\n",
              "      <td>16.62</td>\n",
              "      <td>254.4</td>\n",
              "      <td>103</td>\n",
              "      <td>11.45</td>\n",
              "      <td>13.7</td>\n",
              "      <td>3</td>\n",
              "      <td>3.70</td>\n",
              "      <td>1</td>\n",
              "      <td>False</td>\n",
              "    </tr>\n",
              "    <tr>\n",
              "      <th>2</th>\n",
              "      <td>NJ</td>\n",
              "      <td>137</td>\n",
              "      <td>415</td>\n",
              "      <td>No</td>\n",
              "      <td>No</td>\n",
              "      <td>0</td>\n",
              "      <td>243.4</td>\n",
              "      <td>114</td>\n",
              "      <td>41.38</td>\n",
              "      <td>121.2</td>\n",
              "      <td>110</td>\n",
              "      <td>10.30</td>\n",
              "      <td>162.6</td>\n",
              "      <td>104</td>\n",
              "      <td>7.32</td>\n",
              "      <td>12.2</td>\n",
              "      <td>5</td>\n",
              "      <td>3.29</td>\n",
              "      <td>0</td>\n",
              "      <td>False</td>\n",
              "    </tr>\n",
              "    <tr>\n",
              "      <th>3</th>\n",
              "      <td>OH</td>\n",
              "      <td>84</td>\n",
              "      <td>408</td>\n",
              "      <td>Yes</td>\n",
              "      <td>No</td>\n",
              "      <td>0</td>\n",
              "      <td>299.4</td>\n",
              "      <td>71</td>\n",
              "      <td>50.90</td>\n",
              "      <td>61.9</td>\n",
              "      <td>88</td>\n",
              "      <td>5.26</td>\n",
              "      <td>196.9</td>\n",
              "      <td>89</td>\n",
              "      <td>8.86</td>\n",
              "      <td>6.6</td>\n",
              "      <td>7</td>\n",
              "      <td>1.78</td>\n",
              "      <td>2</td>\n",
              "      <td>False</td>\n",
              "    </tr>\n",
              "    <tr>\n",
              "      <th>4</th>\n",
              "      <td>OK</td>\n",
              "      <td>75</td>\n",
              "      <td>415</td>\n",
              "      <td>Yes</td>\n",
              "      <td>No</td>\n",
              "      <td>0</td>\n",
              "      <td>166.7</td>\n",
              "      <td>113</td>\n",
              "      <td>28.34</td>\n",
              "      <td>148.3</td>\n",
              "      <td>122</td>\n",
              "      <td>12.61</td>\n",
              "      <td>186.9</td>\n",
              "      <td>121</td>\n",
              "      <td>8.41</td>\n",
              "      <td>10.1</td>\n",
              "      <td>3</td>\n",
              "      <td>2.73</td>\n",
              "      <td>3</td>\n",
              "      <td>False</td>\n",
              "    </tr>\n",
              "    <tr>\n",
              "      <th>...</th>\n",
              "      <td>...</td>\n",
              "      <td>...</td>\n",
              "      <td>...</td>\n",
              "      <td>...</td>\n",
              "      <td>...</td>\n",
              "      <td>...</td>\n",
              "      <td>...</td>\n",
              "      <td>...</td>\n",
              "      <td>...</td>\n",
              "      <td>...</td>\n",
              "      <td>...</td>\n",
              "      <td>...</td>\n",
              "      <td>...</td>\n",
              "      <td>...</td>\n",
              "      <td>...</td>\n",
              "      <td>...</td>\n",
              "      <td>...</td>\n",
              "      <td>...</td>\n",
              "      <td>...</td>\n",
              "      <td>...</td>\n",
              "    </tr>\n",
              "    <tr>\n",
              "      <th>3328</th>\n",
              "      <td>AZ</td>\n",
              "      <td>192</td>\n",
              "      <td>415</td>\n",
              "      <td>No</td>\n",
              "      <td>Yes</td>\n",
              "      <td>36</td>\n",
              "      <td>156.2</td>\n",
              "      <td>77</td>\n",
              "      <td>26.55</td>\n",
              "      <td>215.5</td>\n",
              "      <td>126</td>\n",
              "      <td>18.32</td>\n",
              "      <td>279.1</td>\n",
              "      <td>83</td>\n",
              "      <td>12.56</td>\n",
              "      <td>9.9</td>\n",
              "      <td>6</td>\n",
              "      <td>2.67</td>\n",
              "      <td>2</td>\n",
              "      <td>False</td>\n",
              "    </tr>\n",
              "    <tr>\n",
              "      <th>3329</th>\n",
              "      <td>WV</td>\n",
              "      <td>68</td>\n",
              "      <td>415</td>\n",
              "      <td>No</td>\n",
              "      <td>No</td>\n",
              "      <td>0</td>\n",
              "      <td>231.1</td>\n",
              "      <td>57</td>\n",
              "      <td>39.29</td>\n",
              "      <td>153.4</td>\n",
              "      <td>55</td>\n",
              "      <td>13.04</td>\n",
              "      <td>191.3</td>\n",
              "      <td>123</td>\n",
              "      <td>8.61</td>\n",
              "      <td>9.6</td>\n",
              "      <td>4</td>\n",
              "      <td>2.59</td>\n",
              "      <td>3</td>\n",
              "      <td>False</td>\n",
              "    </tr>\n",
              "    <tr>\n",
              "      <th>3330</th>\n",
              "      <td>RI</td>\n",
              "      <td>28</td>\n",
              "      <td>510</td>\n",
              "      <td>No</td>\n",
              "      <td>No</td>\n",
              "      <td>0</td>\n",
              "      <td>180.8</td>\n",
              "      <td>109</td>\n",
              "      <td>30.74</td>\n",
              "      <td>288.8</td>\n",
              "      <td>58</td>\n",
              "      <td>24.55</td>\n",
              "      <td>191.9</td>\n",
              "      <td>91</td>\n",
              "      <td>8.64</td>\n",
              "      <td>14.1</td>\n",
              "      <td>6</td>\n",
              "      <td>3.81</td>\n",
              "      <td>2</td>\n",
              "      <td>False</td>\n",
              "    </tr>\n",
              "    <tr>\n",
              "      <th>3331</th>\n",
              "      <td>CT</td>\n",
              "      <td>184</td>\n",
              "      <td>510</td>\n",
              "      <td>Yes</td>\n",
              "      <td>No</td>\n",
              "      <td>0</td>\n",
              "      <td>213.8</td>\n",
              "      <td>105</td>\n",
              "      <td>36.35</td>\n",
              "      <td>159.6</td>\n",
              "      <td>84</td>\n",
              "      <td>13.57</td>\n",
              "      <td>139.2</td>\n",
              "      <td>137</td>\n",
              "      <td>6.26</td>\n",
              "      <td>5.0</td>\n",
              "      <td>10</td>\n",
              "      <td>1.35</td>\n",
              "      <td>2</td>\n",
              "      <td>False</td>\n",
              "    </tr>\n",
              "    <tr>\n",
              "      <th>3332</th>\n",
              "      <td>TN</td>\n",
              "      <td>74</td>\n",
              "      <td>415</td>\n",
              "      <td>No</td>\n",
              "      <td>Yes</td>\n",
              "      <td>25</td>\n",
              "      <td>234.4</td>\n",
              "      <td>113</td>\n",
              "      <td>39.85</td>\n",
              "      <td>265.9</td>\n",
              "      <td>82</td>\n",
              "      <td>22.60</td>\n",
              "      <td>241.4</td>\n",
              "      <td>77</td>\n",
              "      <td>10.86</td>\n",
              "      <td>13.7</td>\n",
              "      <td>4</td>\n",
              "      <td>3.70</td>\n",
              "      <td>0</td>\n",
              "      <td>False</td>\n",
              "    </tr>\n",
              "  </tbody>\n",
              "</table>\n",
              "<p>3333 rows × 20 columns</p>\n",
              "</div>\n",
              "      <button class=\"colab-df-convert\" onclick=\"convertToInteractive('df-9cb2cd07-5898-4027-825e-cb00101fe78d')\"\n",
              "              title=\"Convert this dataframe to an interactive table.\"\n",
              "              style=\"display:none;\">\n",
              "        \n",
              "  <svg xmlns=\"http://www.w3.org/2000/svg\" height=\"24px\"viewBox=\"0 0 24 24\"\n",
              "       width=\"24px\">\n",
              "    <path d=\"M0 0h24v24H0V0z\" fill=\"none\"/>\n",
              "    <path d=\"M18.56 5.44l.94 2.06.94-2.06 2.06-.94-2.06-.94-.94-2.06-.94 2.06-2.06.94zm-11 1L8.5 8.5l.94-2.06 2.06-.94-2.06-.94L8.5 2.5l-.94 2.06-2.06.94zm10 10l.94 2.06.94-2.06 2.06-.94-2.06-.94-.94-2.06-.94 2.06-2.06.94z\"/><path d=\"M17.41 7.96l-1.37-1.37c-.4-.4-.92-.59-1.43-.59-.52 0-1.04.2-1.43.59L10.3 9.45l-7.72 7.72c-.78.78-.78 2.05 0 2.83L4 21.41c.39.39.9.59 1.41.59.51 0 1.02-.2 1.41-.59l7.78-7.78 2.81-2.81c.8-.78.8-2.07 0-2.86zM5.41 20L4 18.59l7.72-7.72 1.47 1.35L5.41 20z\"/>\n",
              "  </svg>\n",
              "      </button>\n",
              "      \n",
              "  <style>\n",
              "    .colab-df-container {\n",
              "      display:flex;\n",
              "      flex-wrap:wrap;\n",
              "      gap: 12px;\n",
              "    }\n",
              "\n",
              "    .colab-df-convert {\n",
              "      background-color: #E8F0FE;\n",
              "      border: none;\n",
              "      border-radius: 50%;\n",
              "      cursor: pointer;\n",
              "      display: none;\n",
              "      fill: #1967D2;\n",
              "      height: 32px;\n",
              "      padding: 0 0 0 0;\n",
              "      width: 32px;\n",
              "    }\n",
              "\n",
              "    .colab-df-convert:hover {\n",
              "      background-color: #E2EBFA;\n",
              "      box-shadow: 0px 1px 2px rgba(60, 64, 67, 0.3), 0px 1px 3px 1px rgba(60, 64, 67, 0.15);\n",
              "      fill: #174EA6;\n",
              "    }\n",
              "\n",
              "    [theme=dark] .colab-df-convert {\n",
              "      background-color: #3B4455;\n",
              "      fill: #D2E3FC;\n",
              "    }\n",
              "\n",
              "    [theme=dark] .colab-df-convert:hover {\n",
              "      background-color: #434B5C;\n",
              "      box-shadow: 0px 1px 3px 1px rgba(0, 0, 0, 0.15);\n",
              "      filter: drop-shadow(0px 1px 2px rgba(0, 0, 0, 0.3));\n",
              "      fill: #FFFFFF;\n",
              "    }\n",
              "  </style>\n",
              "\n",
              "      <script>\n",
              "        const buttonEl =\n",
              "          document.querySelector('#df-9cb2cd07-5898-4027-825e-cb00101fe78d button.colab-df-convert');\n",
              "        buttonEl.style.display =\n",
              "          google.colab.kernel.accessAllowed ? 'block' : 'none';\n",
              "\n",
              "        async function convertToInteractive(key) {\n",
              "          const element = document.querySelector('#df-9cb2cd07-5898-4027-825e-cb00101fe78d');\n",
              "          const dataTable =\n",
              "            await google.colab.kernel.invokeFunction('convertToInteractive',\n",
              "                                                     [key], {});\n",
              "          if (!dataTable) return;\n",
              "\n",
              "          const docLinkHtml = 'Like what you see? Visit the ' +\n",
              "            '<a target=\"_blank\" href=https://colab.research.google.com/notebooks/data_table.ipynb>data table notebook</a>'\n",
              "            + ' to learn more about interactive tables.';\n",
              "          element.innerHTML = '';\n",
              "          dataTable['output_type'] = 'display_data';\n",
              "          await google.colab.output.renderOutput(dataTable, element);\n",
              "          const docLink = document.createElement('div');\n",
              "          docLink.innerHTML = docLinkHtml;\n",
              "          element.appendChild(docLink);\n",
              "        }\n",
              "      </script>\n",
              "    </div>\n",
              "  </div>\n",
              "  "
            ]
          },
          "metadata": {},
          "execution_count": 14
        }
      ]
    },
    {
      "cell_type": "code",
      "source": [
        "#Visualize the charge distribution during day,evening & night\n",
        "sns.set_color_codes()\n",
        "sns.set_style(\"dark\")\n",
        "plt.figure(figsize=(20,5))\n",
        "plt.subplot(1,3,1)\n",
        "plt.title('Charges During Day')\n",
        "sns.histplot(telecom['Total day charge'],color='g',bins=15)\n",
        "\n",
        "plt.subplot(1,3,2)\n",
        "plt.title('Charges During Evening')           \n",
        "sns.histplot(telecom['Total eve charge'],color='g',bins=15)\n",
        "\n",
        "plt.subplot(1,3,3)\n",
        "plt.title('Charges During Night')\n",
        "sns.histplot(telecom['Total night charge'],color='g',bins=15)\n",
        "plt.show()"
      ],
      "metadata": {
        "colab": {
          "base_uri": "https://localhost:8080/",
          "height": 350
        },
        "id": "LAgRKlYJiRq8",
        "outputId": "e67e80a8-4fb7-46b8-f450-91c41273fe98"
      },
      "execution_count": 15,
      "outputs": [
        {
          "output_type": "display_data",
          "data": {
            "text/plain": [
              "<Figure size 1440x360 with 3 Axes>"
            ],
            "image/png": "[encoded data removed]"
          },
          "metadata": {}
        }
      ]
    },
    {
      "cell_type": "markdown",
      "source": [
        "# **Conclusions:**\n",
        "\n",
        "From the table above, it can be seen that customers talk more during the day compared to the evening and night time.\n",
        "\n",
        "The average number of calls during the day, evening and night is almost the same.\n",
        "\n",
        "Apart from having a limited number of minutes to speak during the day, the costs incurred by the customer are higher compared to the evening and night talk minutes.\n",
        "\n",
        "It can also be visualized in the structure shown above."
      ],
      "metadata": {
        "id": "yLhCWIWBiG8s"
      }
    },
    {
      "cell_type": "code",
      "source": [
        "# unique elements of the dataset\n",
        "telecom.nunique()"
      ],
      "metadata": {
        "colab": {
          "base_uri": "https://localhost:8080/"
        },
        "id": "0RVKyYRVi1o4",
        "outputId": "6a9df906-fee7-40e4-ea84-ff1b47e26e99"
      },
      "execution_count": 16,
      "outputs": [
        {
          "output_type": "execute_result",
          "data": {
            "text/plain": [
              "State                       51\n",
              "Account length             212\n",
              "Area code                    3\n",
              "International plan           2\n",
              "Voice mail plan              2\n",
              "Number vmail messages       46\n",
              "Total day minutes         1667\n",
              "Total day calls            119\n",
              "Total day charge          1667\n",
              "Total eve minutes         1611\n",
              "Total eve calls            123\n",
              "Total eve charge          1440\n",
              "Total night minutes       1591\n",
              "Total night calls          120\n",
              "Total night charge         933\n",
              "Total intl minutes         162\n",
              "Total intl calls            21\n",
              "Total intl charge          162\n",
              "Customer service calls      10\n",
              "Churn                        2\n",
              "dtype: int64"
            ]
          },
          "metadata": {},
          "execution_count": 16
        }
      ]
    },
    {
      "cell_type": "code",
      "source": [
        "# Checking Duplicate Values\n",
        "len(telecom[telecom.duplicated()])"
      ],
      "metadata": {
        "colab": {
          "base_uri": "https://localhost:8080/"
        },
        "id": "z3_rl-rii1Z2",
        "outputId": "9a961c6e-3e2f-4e7f-bca4-3d7aef3d25c1"
      },
      "execution_count": 17,
      "outputs": [
        {
          "output_type": "execute_result",
          "data": {
            "text/plain": [
              "0"
            ]
          },
          "metadata": {},
          "execution_count": 17
        }
      ]
    },
    {
      "cell_type": "markdown",
      "source": [
        "**As of now,\n",
        " There are 3333 rows and 20 columns in above dataset.\n",
        "1 boolean data type i.e churn\n",
        "8 float data type,\n",
        "8integer data type,\n",
        "3 object data type i.e categorical value are there.\n",
        "There are no missing value present so no need to do the missing value imputation,\n",
        "And also there are no duplicate value present.**"
      ],
      "metadata": {
        "id": "7L1WaLBDjKuG"
      }
    },
    {
      "cell_type": "code",
      "source": [
        "#Printing the count of true and false in 'churn' feature#\n",
        "print(telecom.Churn.value_counts())"
      ],
      "metadata": {
        "colab": {
          "base_uri": "https://localhost:8080/"
        },
        "id": "VcysJYTliGB4",
        "outputId": "8ce9d595-70b2-407c-e34d-30defca74443"
      },
      "execution_count": 18,
      "outputs": [
        {
          "output_type": "stream",
          "name": "stdout",
          "text": [
            "False    2850\n",
            "True      483\n",
            "Name: Churn, dtype: int64\n"
          ]
        }
      ]
    },
    {
      "cell_type": "code",
      "source": [
        "#sorting the dataset\n",
        "telecom.sort_values"
      ],
      "metadata": {
        "colab": {
          "base_uri": "https://localhost:8080/"
        },
        "id": "dp3W-xT0jpN5",
        "outputId": "ecf392e8-abf6-4487-f4a9-f78ae49cde26"
      },
      "execution_count": 19,
      "outputs": [
        {
          "output_type": "execute_result",
          "data": {
            "text/plain": [
              "<bound method DataFrame.sort_values of      State  Account length  Area code International plan Voice mail plan  \\\n",
              "0       KS             128        415                 No             Yes   \n",
              "1       OH             107        415                 No             Yes   \n",
              "2       NJ             137        415                 No              No   \n",
              "3       OH              84        408                Yes              No   \n",
              "4       OK              75        415                Yes              No   \n",
              "...    ...             ...        ...                ...             ...   \n",
              "3328    AZ             192        415                 No             Yes   \n",
              "3329    WV              68        415                 No              No   \n",
              "3330    RI              28        510                 No              No   \n",
              "3331    CT             184        510                Yes              No   \n",
              "3332    TN              74        415                 No             Yes   \n",
              "\n",
              "      Number vmail messages  Total day minutes  Total day calls  \\\n",
              "0                        25              265.1              110   \n",
              "1                        26              161.6              123   \n",
              "2                         0              243.4              114   \n",
              "3                         0              299.4               71   \n",
              "4                         0              166.7              113   \n",
              "...                     ...                ...              ...   \n",
              "3328                     36              156.2               77   \n",
              "3329                      0              231.1               57   \n",
              "3330                      0              180.8              109   \n",
              "3331                      0              213.8              105   \n",
              "3332                     25              234.4              113   \n",
              "\n",
              "      Total day charge  Total eve minutes  Total eve calls  Total eve charge  \\\n",
              "0                45.07              197.4               99             16.78   \n",
              "1                27.47              195.5              103             16.62   \n",
              "2                41.38              121.2              110             10.30   \n",
              "3                50.90               61.9               88              5.26   \n",
              "4                28.34              148.3              122             12.61   \n",
              "...                ...                ...              ...               ...   \n",
              "3328             26.55              215.5              126             18.32   \n",
              "3329             39.29              153.4               55             13.04   \n",
              "3330             30.74              288.8               58             24.55   \n",
              "3331             36.35              159.6               84             13.57   \n",
              "3332             39.85              265.9               82             22.60   \n",
              "\n",
              "      Total night minutes  Total night calls  Total night charge  \\\n",
              "0                   244.7                 91               11.01   \n",
              "1                   254.4                103               11.45   \n",
              "2                   162.6                104                7.32   \n",
              "3                   196.9                 89                8.86   \n",
              "4                   186.9                121                8.41   \n",
              "...                   ...                ...                 ...   \n",
              "3328                279.1                 83               12.56   \n",
              "3329                191.3                123                8.61   \n",
              "3330                191.9                 91                8.64   \n",
              "3331                139.2                137                6.26   \n",
              "3332                241.4                 77               10.86   \n",
              "\n",
              "      Total intl minutes  Total intl calls  Total intl charge  \\\n",
              "0                   10.0                 3               2.70   \n",
              "1                   13.7                 3               3.70   \n",
              "2                   12.2                 5               3.29   \n",
              "3                    6.6                 7               1.78   \n",
              "4                   10.1                 3               2.73   \n",
              "...                  ...               ...                ...   \n",
              "3328                 9.9                 6               2.67   \n",
              "3329                 9.6                 4               2.59   \n",
              "3330                14.1                 6               3.81   \n",
              "3331                 5.0                10               1.35   \n",
              "3332                13.7                 4               3.70   \n",
              "\n",
              "      Customer service calls  Churn  \n",
              "0                          1  False  \n",
              "1                          1  False  \n",
              "2                          0  False  \n",
              "3                          2  False  \n",
              "4                          3  False  \n",
              "...                      ...    ...  \n",
              "3328                       2  False  \n",
              "3329                       3  False  \n",
              "3330                       2  False  \n",
              "3331                       2  False  \n",
              "3332                       0  False  \n",
              "\n",
              "[3333 rows x 20 columns]>"
            ]
          },
          "metadata": {},
          "execution_count": 19
        }
      ]
    },
    {
      "cell_type": "code",
      "source": [
        "#evaluating the mean of all entities\n",
        "telecom['Churn'].mean()"
      ],
      "metadata": {
        "colab": {
          "base_uri": "https://localhost:8080/"
        },
        "id": "hhqB1m9XjtXd",
        "outputId": "63dd70b2-83f2-4638-9dd1-4c7802749dc0"
      },
      "execution_count": 20,
      "outputs": [
        {
          "output_type": "execute_result",
          "data": {
            "text/plain": [
              "0.14491449144914492"
            ]
          },
          "metadata": {},
          "execution_count": 20
        }
      ]
    },
    {
      "cell_type": "code",
      "source": [
        "#array of unique features of churns\n",
        "print(telecom[\"Churn\"].unique())"
      ],
      "metadata": {
        "colab": {
          "base_uri": "https://localhost:8080/"
        },
        "id": "tJRQIQUIjo7P",
        "outputId": "15b4c0e1-b1f7-4186-a70c-e2c8672caf01"
      },
      "execution_count": 21,
      "outputs": [
        {
          "output_type": "stream",
          "name": "stdout",
          "text": [
            "[False  True]\n"
          ]
        }
      ]
    },
    {
      "cell_type": "code",
      "source": [
        "#the pie charts to analyze churn\n",
        "sns.set(font_scale=1.25)\n",
        "telecom['Churn'].value_counts().plot.pie(explode=[0.05,0.05], autopct='%1.1f%%',  startangle=90,shadow='true',colors=['orange','red'], figsize=(8,8),fontsize = 15)\n",
        "plt.title('Pie Chart for Churn',fontsize = 15)\n",
        "plt.show()"
      ],
      "metadata": {
        "colab": {
          "base_uri": "https://localhost:8080/",
          "height": 484
        },
        "id": "HpZs35-ykJDx",
        "outputId": "77f44b13-0d03-4444-ebcf-4ae3d093e5e2"
      },
      "execution_count": 22,
      "outputs": [
        {
          "output_type": "display_data",
          "data": {
            "text/plain": [
              "<Figure size 576x576 with 1 Axes>"
            ],
            "image/png": "[encoded data removed]"
          },
          "metadata": {}
        }
      ]
    },
    {
      "cell_type": "code",
      "source": [
        "#the Donut Plot to analyze churn\n",
        "sns.set(font_scale=1.25)\n",
        "data = telecom['Churn'].value_counts()\n",
        "explode = (0, 0.2)\n",
        "plt.pie(data, explode = explode,autopct='%1.1f%%',shadow=True,radius = 2.0,labels = ['Not churned customer','Churned customer'],colors=['yellow' ,'red'])\n",
        "circle = plt.Circle( (0,0), 1, color='white')\n",
        "p=plt.gcf()\n",
        "p.gca().add_artist(circle)\n",
        "plt.title('Donut plot for Churn',fontsize = 15)\n",
        "plt.show()"
      ],
      "metadata": {
        "colab": {
          "base_uri": "https://localhost:8080/",
          "height": 382
        },
        "id": "dm8PSp7DkJaw",
        "outputId": "267f7903-8bb4-4c1c-e561-4088f40d8f2a"
      },
      "execution_count": 23,
      "outputs": [
        {
          "output_type": "display_data",
          "data": {
            "text/plain": [
              "<Figure size 432x288 with 1 Axes>"
            ],
            "image/png": "[encoded data removed]"
          },
          "metadata": {}
        }
      ]
    },
    {
      "cell_type": "code",
      "source": [
        "from matplotlib.cbook import get_realpath_and_stat\n",
        "# See churn by using countplot\n",
        "sns.set(font_scale=1.25)\n",
        "plt.figure(figsize = (5, 7))\n",
        "graph=sns.countplot(x=telecom.Churn)\n",
        "i=0\n",
        "for p in graph.patches:\n",
        "    height = p.get_height()\n",
        "    graph.text(p.get_x()+p.get_width()/2., height + 0.1,\n",
        "        telecom['Churn'].value_counts()[i],ha=\"center\")\n",
        "    i += 1\n",
        "plt.title('Bar chart for Churn count')"
      ],
      "metadata": {
        "colab": {
          "base_uri": "https://localhost:8080/",
          "height": 490
        },
        "id": "oqFT-gYDkmCe",
        "outputId": "4d809cfa-5c6a-4bb8-ce2a-93c94c49cd95"
      },
      "execution_count": 24,
      "outputs": [
        {
          "output_type": "execute_result",
          "data": {
            "text/plain": [
              "Text(0.5, 1.0, 'Bar chart for Churn count')"
            ]
          },
          "metadata": {},
          "execution_count": 24
        },
        {
          "output_type": "display_data",
          "data": {
            "text/plain": [
              "<Figure size 360x504 with 1 Axes>"
            ],
            "image/png": "[encoded data removed]"
          },
          "metadata": {}
        }
      ]
    },
    {
      "cell_type": "markdown",
      "source": [
        "## **Above we get that 15% of customers have churned.**"
      ],
      "metadata": {
        "id": "utaxcyfKk3qa"
      }
    }
  ]
}